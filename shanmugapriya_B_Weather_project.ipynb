{
  "nbformat": 4,
  "nbformat_minor": 0,
  "metadata": {
    "colab": {
      "name": "shanmugapriya.B Weather project",
      "provenance": []
    },
    "kernelspec": {
      "name": "python3",
      "display_name": "Python 3"
    },
    "language_info": {
      "name": "python"
    }
  },
  "cells": [
    {
      "cell_type": "code",
      "metadata": {
        "colab": {
          "base_uri": "https://localhost:8080/"
        },
        "id": "1fGPcwIU5180",
        "outputId": "cb138ef2-16f8-41b4-df90-00e4e4e2be60"
      },
      "source": [
        "import requests\n",
        "#import os\n",
        "from datetime import datetime\n",
        "\n",
        "api_key = '824e5b5d7ef2acd098716a5697b62440'\n",
        "location = input(\"Enter the city name:\")\n",
        "\n",
        "complete_api_link = \"http://api.openweathermap.org/data/2.5/weather?q=Coimbatore&appid=824e5b5d7ef2acd098716a5697b62440\"\n",
        "api_link = requests.get(complete_api_link)\n",
        "api_data = api_link.json()\n",
        "\n",
        "#create variables to store and display data \n",
        "temp_city = ((api_data['main']['temp']) - 273.15)\n",
        "weather_desc = api_data['weather'][0]['description']\n",
        "hmdt = api_data['main']['humidity']\n",
        "wind_spd = api_data['wind']['speed']\n",
        "date_time = datetime.now().strftime(\"%d %b %y | %I:%m:%s:%p\")\n",
        "print (\"-------------------------------------------------------------------\")\n",
        "print (\"weather stats for - {} || {}\".format(location.upper(),date_time))\n",
        "print (\"-------------------------------------------------------------------\")\n",
        "\n",
        "print (\"current temperature is: {:.2f} degc\".format(temp_city))\n",
        "print (\"current weather desc :\",weather_desc)\n",
        "print (\"current Humidity    :\",hmdt, '%')\n",
        "print (\"current wind speed   :\",wind_spd ,'kmph')"
      ],
      "execution_count": 21,
      "outputs": [
        {
          "output_type": "stream",
          "text": [
            "Enter the city name:coimbatore\n",
            "-------------------------------------------------------------------\n",
            "weather stats for - COIMBATORE || 24 Jun 21 | 01:06:1624540197:PM\n",
            "-------------------------------------------------------------------\n",
            "current temperature is: 27.88 degc\n",
            "current weather desc : scattered clouds\n",
            "current Humidity    : 69 %\n",
            "current wind speed   : 6.17 kmph\n"
          ],
          "name": "stdout"
        }
      ]
    }
  ]
}